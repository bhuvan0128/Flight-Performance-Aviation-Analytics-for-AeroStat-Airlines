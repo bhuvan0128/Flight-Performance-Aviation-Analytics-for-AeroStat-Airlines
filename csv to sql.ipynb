{
 "cells": [
  {
   "cell_type": "code",
   "execution_count": 27,
   "id": "fdf816ff-e4d1-44ad-b0d1-360ccf36da30",
   "metadata": {},
   "outputs": [],
   "source": [
    "import pandas as pd\n",
    "import mysql.connector\n",
    "import os"
   ]
  },
  {
   "cell_type": "code",
   "execution_count": 31,
   "id": "0d0daf3d-f489-463b-99a9-54b871a0bf00",
   "metadata": {},
   "outputs": [],
   "source": [
    "csv_files = csv_files = [\n",
    "    ('airlines_cleaned.csv', 'airlines_cleaned'),\n",
    "    ('airports_cleaned.csv', 'airports_cleaned'),\n",
    "    ('cancellation_codes_cleaned.csv', 'cancellation_codes_cleaned'),\n",
    "    ('flights_cleaned.csv', 'flights_cleaned') # Added payments.csv for specific handling\n",
    "]"
   ]
  },
  {
   "cell_type": "code",
   "execution_count": 32,
   "id": "c8cce450-9912-49bd-bc88-b0d91c3e270a",
   "metadata": {},
   "outputs": [],
   "source": [
    "conn = mysql.connector.connect(\n",
    "    host='LAPTOP-HSKVBD5P',\n",
    "    user='bhuvan',\n",
    "    password='Bhuvan@0128',\n",
    "    database='airlines'\n",
    ")\n",
    "cursor = conn.cursor()"
   ]
  },
  {
   "cell_type": "code",
   "execution_count": 33,
   "id": "d2b54aa6-5ae6-426c-8a0c-beecd987678f",
   "metadata": {},
   "outputs": [],
   "source": [
    "folder_path = \"C:/Users/RAMESH/OneDrive/Desktop/airlines foder\""
   ]
  },
  {
   "cell_type": "code",
   "execution_count": 34,
   "id": "4f20f79e-30e3-4308-818c-52bf0bc04791",
   "metadata": {},
   "outputs": [
    {
     "name": "stdout",
     "output_type": "stream",
     "text": [
      "Processing airlines_cleaned.csv\n",
      "NaN values before replacement:\n",
      "IATA_CODE    0\n",
      "AIRLINE      0\n",
      "dtype: int64\n",
      "\n",
      "Processing airports_cleaned.csv\n",
      "NaN values before replacement:\n",
      "IATA_CODE    0\n",
      "AIRPORT      0\n",
      "CITY         0\n",
      "STATE        0\n",
      "COUNTRY      0\n",
      "LATITUDE     3\n",
      "LONGITUDE    3\n",
      "dtype: int64\n",
      "\n",
      "Processing cancellation_codes_cleaned.csv\n",
      "NaN values before replacement:\n",
      "CANCELLATION_REASON         0\n",
      "CANCELLATION_DESCRIPTION    0\n",
      "dtype: int64\n",
      "\n",
      "Processing flights_cleaned.csv\n",
      "NaN values before replacement:\n",
      "YEAR                       0\n",
      "MONTH                      0\n",
      "DAY                        0\n",
      "DAY_OF_WEEK                0\n",
      "AIRLINE                    0\n",
      "FLIGHT_NUMBER              0\n",
      "TAIL_NUMBER               59\n",
      "ORIGIN_AIRPORT             0\n",
      "DESTINATION_AIRPORT        0\n",
      "SCHEDULED_DEPARTURE        0\n",
      "DEPARTURE_TIME          1104\n",
      "DEPARTURE_DELAY         1104\n",
      "TAXI_OUT                1127\n",
      "WHEELS_OFF              1127\n",
      "SCHEDULED_TIME             0\n",
      "ELAPSED_TIME            1247\n",
      "AIR_TIME                1247\n",
      "DISTANCE                   0\n",
      "WHEELS_ON               1161\n",
      "TAXI_IN                 1161\n",
      "SCHEDULED_ARRIVAL          0\n",
      "ARRIVAL_TIME            1161\n",
      "ARRIVAL_DELAY           1247\n",
      "DIVERTED                   0\n",
      "CANCELLED                  0\n",
      "CANCELLATION_REASON    48860\n",
      "AIR_SYSTEM_DELAY           0\n",
      "SECURITY_DELAY             0\n",
      "AIRLINE_DELAY              0\n",
      "LATE_AIRCRAFT_DELAY        0\n",
      "WEATHER_DELAY              0\n",
      "dtype: int64\n",
      "\n"
     ]
    }
   ],
   "source": [
    "def get_sql_type(dtype):\n",
    "    if pd.api.types.is_integer_dtype(dtype):\n",
    "        return 'INT'\n",
    "    elif pd.api.types.is_float_dtype(dtype):\n",
    "        return 'FLOAT'\n",
    "    elif pd.api.types.is_bool_dtype(dtype):\n",
    "        return 'BOOLEAN'\n",
    "    elif pd.api.types.is_datetime64_any_dtype(dtype):\n",
    "        return 'DATETIME'\n",
    "    else:\n",
    "        return 'TEXT'\n",
    "\n",
    "for csv_file, table_name in csv_files:\n",
    "    file_path = os.path.join(folder_path, csv_file)\n",
    "    \n",
    "    # Read the CSV file into a pandas DataFrame\n",
    "    df = pd.read_csv(file_path)\n",
    "    \n",
    "    # Replace NaN with None to handle SQL NULL\n",
    "    df = df.where(pd.notnull(df), None)\n",
    "    \n",
    "    # Debugging: Check for NaN values\n",
    "    print(f\"Processing {csv_file}\")\n",
    "    print(f\"NaN values before replacement:\\n{df.isnull().sum()}\\n\")\n",
    "\n",
    "    # Clean column names\n",
    "    df.columns = [col.replace(' ', '_').replace('-', '_').replace('.', '_') for col in df.columns]\n",
    "\n",
    "    # Generate the CREATE TABLE statement with appropriate data types\n",
    "    columns = ', '.join([f'`{col}` {get_sql_type(df[col].dtype)}' for col in df.columns])\n",
    "    create_table_query = f'CREATE TABLE IF NOT EXISTS `{table_name}` ({columns})'\n",
    "    cursor.execute(create_table_query)\n",
    "\n",
    "    # Insert DataFrame data into the MySQL table\n",
    "    for _, row in df.iterrows():\n",
    "        # Convert row to tuple and handle NaN/None explicitly\n",
    "        values = tuple(None if pd.isna(x) else x for x in row)\n",
    "        sql = f\"INSERT INTO `{table_name}` ({', '.join(['`' + col + '`' for col in df.columns])}) VALUES ({', '.join(['%s'] * len(row))})\"\n",
    "        cursor.execute(sql, values)\n",
    "\n",
    "    # Commit the transaction for the current CSV file\n",
    "    conn.commit()\n",
    "\n",
    "# Close the connection\n",
    "conn.close()"
   ]
  }
 ],
 "metadata": {
  "kernelspec": {
   "display_name": "Python 3 (ipykernel)",
   "language": "python",
   "name": "python3"
  },
  "language_info": {
   "codemirror_mode": {
    "name": "ipython",
    "version": 3
   },
   "file_extension": ".py",
   "mimetype": "text/x-python",
   "name": "python",
   "nbconvert_exporter": "python",
   "pygments_lexer": "ipython3",
   "version": "3.13.1"
  }
 },
 "nbformat": 4,
 "nbformat_minor": 5
}
